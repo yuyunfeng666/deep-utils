{
 "cells": [
  {
   "cell_type": "code",
   "execution_count": 1,
   "metadata": {},
   "outputs": [],
   "source": [
    "import torch\n",
    "from torch.nn.utils.rnn import pad_packed_sequence,pack_padded_sequence"
   ]
  },
  {
   "cell_type": "code",
   "execution_count": 9,
   "metadata": {},
   "outputs": [],
   "source": [
    "ori_a = [[1],[2,3,4],[5,6],[7,8,9,9]]"
   ]
  },
  {
   "cell_type": "code",
   "execution_count": 2,
   "metadata": {},
   "outputs": [],
   "source": [
    "a = [[1,0,0,0],[2,3,4,0],[5,6,0,0],[7,8,9,9]]"
   ]
  },
  {
   "cell_type": "code",
   "execution_count": 18,
   "metadata": {},
   "outputs": [],
   "source": [
    "ori_len = torch.tensor([len(i) for i in ori_a])"
   ]
  },
  {
   "cell_type": "code",
   "execution_count": 19,
   "metadata": {},
   "outputs": [],
   "source": [
    "t_a = torch.tensor(a)"
   ]
  },
  {
   "cell_type": "code",
   "execution_count": 20,
   "metadata": {},
   "outputs": [
    {
     "data": {
      "text/plain": [
       "tensor([[1, 0, 0, 0],\n",
       "        [2, 3, 4, 0],\n",
       "        [5, 6, 0, 0],\n",
       "        [7, 8, 9, 9]])"
      ]
     },
     "execution_count": 20,
     "metadata": {},
     "output_type": "execute_result"
    }
   ],
   "source": [
    "t_a"
   ]
  },
  {
   "cell_type": "code",
   "execution_count": 22,
   "metadata": {},
   "outputs": [],
   "source": [
    "lengths, idx = ori_len.sort(0,descending=True)"
   ]
  },
  {
   "cell_type": "code",
   "execution_count": 23,
   "metadata": {},
   "outputs": [
    {
     "data": {
      "text/plain": [
       "(tensor([4, 3, 2, 1]), tensor([3, 1, 2, 0]))"
      ]
     },
     "execution_count": 23,
     "metadata": {},
     "output_type": "execute_result"
    }
   ],
   "source": [
    "lengths, idx"
   ]
  },
  {
   "cell_type": "code",
   "execution_count": 26,
   "metadata": {},
   "outputs": [],
   "source": [
    "_, un_idx = idx.sort(0)"
   ]
  },
  {
   "cell_type": "code",
   "execution_count": 34,
   "metadata": {},
   "outputs": [],
   "source": [
    "embeded = torch.nn.Embedding(20,2,padding_idx=0)\n",
    "lstm = torch.nn.LSTM(2,6,batch_first = True)"
   ]
  },
  {
   "cell_type": "code",
   "execution_count": 28,
   "metadata": {},
   "outputs": [
    {
     "data": {
      "text/plain": [
       "tensor([[7, 8, 9, 9],\n",
       "        [2, 3, 4, 0],\n",
       "        [5, 6, 0, 0],\n",
       "        [1, 0, 0, 0]])"
      ]
     },
     "execution_count": 28,
     "metadata": {},
     "output_type": "execute_result"
    }
   ],
   "source": [
    "t_a[idx]"
   ]
  },
  {
   "cell_type": "code",
   "execution_count": 36,
   "metadata": {},
   "outputs": [],
   "source": [
    "embed_a = embeded(t_a[idx])"
   ]
  },
  {
   "cell_type": "code",
   "execution_count": 37,
   "metadata": {},
   "outputs": [
    {
     "data": {
      "text/plain": [
       "tensor([[[-0.5365,  0.0707],\n",
       "         [ 0.6974, -0.2787],\n",
       "         [ 2.1905, -0.5927],\n",
       "         [ 2.1905, -0.5927]],\n",
       "\n",
       "        [[-0.2537,  1.6083],\n",
       "         [-0.3243,  0.1823],\n",
       "         [-1.2489,  1.5352],\n",
       "         [ 0.0000,  0.0000]],\n",
       "\n",
       "        [[ 0.0273, -0.3106],\n",
       "         [ 0.2029, -0.9987],\n",
       "         [ 0.0000,  0.0000],\n",
       "         [ 0.0000,  0.0000]],\n",
       "\n",
       "        [[-2.0155,  0.1443],\n",
       "         [ 0.0000,  0.0000],\n",
       "         [ 0.0000,  0.0000],\n",
       "         [ 0.0000,  0.0000]]], grad_fn=<EmbeddingBackward>)"
      ]
     },
     "execution_count": 37,
     "metadata": {},
     "output_type": "execute_result"
    }
   ],
   "source": [
    "embed_a"
   ]
  },
  {
   "cell_type": "code",
   "execution_count": 41,
   "metadata": {
    "scrolled": true
   },
   "outputs": [],
   "source": [
    "pack_a = pack_padded_sequence(embed_a,lengths=lengths,batch_first=True)"
   ]
  },
  {
   "cell_type": "code",
   "execution_count": 42,
   "metadata": {},
   "outputs": [
    {
     "data": {
      "text/plain": [
       "PackedSequence(data=tensor([[-0.5365,  0.0707],\n",
       "        [-0.2537,  1.6083],\n",
       "        [ 0.0273, -0.3106],\n",
       "        [-2.0155,  0.1443],\n",
       "        [ 0.6974, -0.2787],\n",
       "        [-0.3243,  0.1823],\n",
       "        [ 0.2029, -0.9987],\n",
       "        [ 2.1905, -0.5927],\n",
       "        [-1.2489,  1.5352],\n",
       "        [ 2.1905, -0.5927]], grad_fn=<PackPaddedSequenceBackward>), batch_sizes=tensor([4, 3, 2, 1]), sorted_indices=None, unsorted_indices=None)"
      ]
     },
     "execution_count": 42,
     "metadata": {},
     "output_type": "execute_result"
    }
   ],
   "source": [
    "pack_a "
   ]
  },
  {
   "cell_type": "code",
   "execution_count": 44,
   "metadata": {},
   "outputs": [],
   "source": [
    "out,(h,c) = lstm(pack_a)"
   ]
  },
  {
   "cell_type": "code",
   "execution_count": 46,
   "metadata": {},
   "outputs": [
    {
     "data": {
      "text/plain": [
       "(PackedSequence(data=tensor([[-0.1264,  0.0231,  0.1045,  0.0552, -0.1137, -0.0125],\n",
       "         [-0.1538, -0.0713, -0.0403,  0.0373, -0.0287,  0.1058],\n",
       "         [-0.0531,  0.0181,  0.1258,  0.0332, -0.1597, -0.0647],\n",
       "         [-0.2451,  0.1371,  0.1397,  0.0854, -0.0622,  0.1171],\n",
       "         [-0.0385, -0.0139,  0.1493,  0.0266, -0.2300, -0.0930],\n",
       "         [-0.2070, -0.0452,  0.0643,  0.0702, -0.1230,  0.0269],\n",
       "         [-0.0036,  0.0752,  0.2717,  0.0495, -0.2837, -0.1184],\n",
       "         [ 0.1800, -0.0667,  0.1572, -0.0713, -0.3532, -0.1547],\n",
       "         [-0.3335, -0.0645,  0.0170,  0.1089, -0.0462,  0.2221],\n",
       "         [ 0.2937, -0.1103,  0.1748, -0.1224, -0.4024, -0.1929]],\n",
       "        grad_fn=<CatBackward>), batch_sizes=tensor([4, 3, 2, 1]), sorted_indices=None, unsorted_indices=None),\n",
       " tensor([[[ 0.2937, -0.1103,  0.1748, -0.1224, -0.4024, -0.1929],\n",
       "          [-0.3335, -0.0645,  0.0170,  0.1089, -0.0462,  0.2221],\n",
       "          [-0.0036,  0.0752,  0.2717,  0.0495, -0.2837, -0.1184],\n",
       "          [-0.2451,  0.1371,  0.1397,  0.0854, -0.0622,  0.1171]]],\n",
       "        grad_fn=<StackBackward>),\n",
       " tensor([[[ 0.5542, -0.2205,  0.2862, -0.3212, -1.3198, -0.4840],\n",
       "          [-0.6295, -0.1008,  0.0326,  0.2291, -0.1371,  0.3238],\n",
       "          [-0.0058,  0.1144,  0.3997,  0.1147, -0.6654, -0.2643],\n",
       "          [-0.4239,  0.1812,  0.2173,  0.1762, -0.1486,  0.1993]]],\n",
       "        grad_fn=<StackBackward>))"
      ]
     },
     "execution_count": 46,
     "metadata": {},
     "output_type": "execute_result"
    }
   ],
   "source": [
    "out,h,c"
   ]
  },
  {
   "cell_type": "code",
   "execution_count": 53,
   "metadata": {},
   "outputs": [],
   "source": [
    "pad_a, _ = pad_packed_sequence(out,batch_first=True)"
   ]
  },
  {
   "cell_type": "code",
   "execution_count": 54,
   "metadata": {},
   "outputs": [
    {
     "data": {
      "text/plain": [
       "tensor([[[-0.1264,  0.0231,  0.1045,  0.0552, -0.1137, -0.0125],\n",
       "         [-0.0385, -0.0139,  0.1493,  0.0266, -0.2300, -0.0930],\n",
       "         [ 0.1800, -0.0667,  0.1572, -0.0713, -0.3532, -0.1547],\n",
       "         [ 0.2937, -0.1103,  0.1748, -0.1224, -0.4024, -0.1929]],\n",
       "\n",
       "        [[-0.1538, -0.0713, -0.0403,  0.0373, -0.0287,  0.1058],\n",
       "         [-0.2070, -0.0452,  0.0643,  0.0702, -0.1230,  0.0269],\n",
       "         [-0.3335, -0.0645,  0.0170,  0.1089, -0.0462,  0.2221],\n",
       "         [ 0.0000,  0.0000,  0.0000,  0.0000,  0.0000,  0.0000]],\n",
       "\n",
       "        [[-0.0531,  0.0181,  0.1258,  0.0332, -0.1597, -0.0647],\n",
       "         [-0.0036,  0.0752,  0.2717,  0.0495, -0.2837, -0.1184],\n",
       "         [ 0.0000,  0.0000,  0.0000,  0.0000,  0.0000,  0.0000],\n",
       "         [ 0.0000,  0.0000,  0.0000,  0.0000,  0.0000,  0.0000]],\n",
       "\n",
       "        [[-0.2451,  0.1371,  0.1397,  0.0854, -0.0622,  0.1171],\n",
       "         [ 0.0000,  0.0000,  0.0000,  0.0000,  0.0000,  0.0000],\n",
       "         [ 0.0000,  0.0000,  0.0000,  0.0000,  0.0000,  0.0000],\n",
       "         [ 0.0000,  0.0000,  0.0000,  0.0000,  0.0000,  0.0000]]],\n",
       "       grad_fn=<TransposeBackward0>)"
      ]
     },
     "execution_count": 54,
     "metadata": {},
     "output_type": "execute_result"
    }
   ],
   "source": [
    "pad_a"
   ]
  },
  {
   "cell_type": "code",
   "execution_count": 55,
   "metadata": {},
   "outputs": [
    {
     "data": {
      "text/plain": [
       "tensor([[[-0.2451,  0.1371,  0.1397,  0.0854, -0.0622,  0.1171],\n",
       "         [ 0.0000,  0.0000,  0.0000,  0.0000,  0.0000,  0.0000],\n",
       "         [ 0.0000,  0.0000,  0.0000,  0.0000,  0.0000,  0.0000],\n",
       "         [ 0.0000,  0.0000,  0.0000,  0.0000,  0.0000,  0.0000]],\n",
       "\n",
       "        [[-0.1538, -0.0713, -0.0403,  0.0373, -0.0287,  0.1058],\n",
       "         [-0.2070, -0.0452,  0.0643,  0.0702, -0.1230,  0.0269],\n",
       "         [-0.3335, -0.0645,  0.0170,  0.1089, -0.0462,  0.2221],\n",
       "         [ 0.0000,  0.0000,  0.0000,  0.0000,  0.0000,  0.0000]],\n",
       "\n",
       "        [[-0.0531,  0.0181,  0.1258,  0.0332, -0.1597, -0.0647],\n",
       "         [-0.0036,  0.0752,  0.2717,  0.0495, -0.2837, -0.1184],\n",
       "         [ 0.0000,  0.0000,  0.0000,  0.0000,  0.0000,  0.0000],\n",
       "         [ 0.0000,  0.0000,  0.0000,  0.0000,  0.0000,  0.0000]],\n",
       "\n",
       "        [[-0.1264,  0.0231,  0.1045,  0.0552, -0.1137, -0.0125],\n",
       "         [-0.0385, -0.0139,  0.1493,  0.0266, -0.2300, -0.0930],\n",
       "         [ 0.1800, -0.0667,  0.1572, -0.0713, -0.3532, -0.1547],\n",
       "         [ 0.2937, -0.1103,  0.1748, -0.1224, -0.4024, -0.1929]]],\n",
       "       grad_fn=<IndexSelectBackward>)"
      ]
     },
     "execution_count": 55,
     "metadata": {},
     "output_type": "execute_result"
    }
   ],
   "source": [
    "torch.index_select(pad_a, 0, un_idx)"
   ]
  },
  {
   "cell_type": "code",
   "execution_count": null,
   "metadata": {},
   "outputs": [],
   "source": []
  }
 ],
 "metadata": {
  "kernelspec": {
   "display_name": "Python 3",
   "language": "python",
   "name": "python3"
  },
  "language_info": {
   "codemirror_mode": {
    "name": "ipython",
    "version": 3
   },
   "file_extension": ".py",
   "mimetype": "text/x-python",
   "name": "python",
   "nbconvert_exporter": "python",
   "pygments_lexer": "ipython3",
   "version": "3.7.9"
  }
 },
 "nbformat": 4,
 "nbformat_minor": 4
}
